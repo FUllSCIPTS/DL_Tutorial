{
  "nbformat": 4,
  "nbformat_minor": 0,
  "metadata": {
    "colab": {
      "provenance": [],
      "authorship_tag": "ABX9TyOuc8dHNCE7EWSX5Ujq6JJl",
      "include_colab_link": true
    },
    "kernelspec": {
      "name": "python3",
      "display_name": "Python 3"
    },
    "language_info": {
      "name": "python"
    }
  },
  "cells": [
    {
      "cell_type": "markdown",
      "metadata": {
        "id": "view-in-github",
        "colab_type": "text"
      },
      "source": [
        "<a href=\"https://colab.research.google.com/github/TirendazAcademy/Deep-Learning-with-TensorFlow/blob/main/Introduction-to-CNN.ipynb\" target=\"_parent\"><img src=\"https://colab.research.google.com/assets/colab-badge.svg\" alt=\"Open In Colab\"/></a>"
      ]
    },
    {
      "cell_type": "markdown",
      "source": [
        "# Introduction-to-CNN"
      ],
      "metadata": {
        "id": "92hXlyGxMWbu"
      }
    },
    {
      "cell_type": "code",
      "source": [
        "from sklearn.datasets import load_sample_images\n",
        "import tensorflow as tf"
      ],
      "metadata": {
        "id": "R-eAFgsOBMaw"
      },
      "execution_count": 17,
      "outputs": []
    },
    {
      "cell_type": "markdown",
      "source": [
        "# Loading images"
      ],
      "metadata": {
        "id": "QDHHLvI6Lh8r"
      }
    },
    {
      "cell_type": "code",
      "source": [
        "images = load_sample_images()[\"images\"]"
      ],
      "metadata": {
        "id": "trRReUQ-GVBh"
      },
      "execution_count": 18,
      "outputs": []
    },
    {
      "cell_type": "code",
      "source": [
        "images[0].shape"
      ],
      "metadata": {
        "colab": {
          "base_uri": "https://localhost:8080/"
        },
        "id": "7_0_VlZ7Gf8q",
        "outputId": "42bdc452-f5bb-4875-c9f2-d64d4a2703e6"
      },
      "execution_count": 19,
      "outputs": [
        {
          "output_type": "execute_result",
          "data": {
            "text/plain": [
              "(427, 640, 3)"
            ]
          },
          "metadata": {},
          "execution_count": 19
        }
      ]
    },
    {
      "cell_type": "markdown",
      "source": [
        "# Data Preprocessing"
      ],
      "metadata": {
        "id": "T8JJ3TlKLl6L"
      }
    },
    {
      "cell_type": "code",
      "source": [
        "images = tf.keras.layers.CenterCrop(height=80, width=120)(images)\n",
        "images = tf.keras.layers.Rescaling(scale=1/255)(images)"
      ],
      "metadata": {
        "id": "IGN2bKxzG894"
      },
      "execution_count": 21,
      "outputs": []
    },
    {
      "cell_type": "code",
      "source": [
        "images.shape"
      ],
      "metadata": {
        "colab": {
          "base_uri": "https://localhost:8080/"
        },
        "id": "H9s6NcktHhOu",
        "outputId": "9aba20eb-15a3-4a10-bbde-a0c7aa501b45"
      },
      "execution_count": 22,
      "outputs": [
        {
          "output_type": "execute_result",
          "data": {
            "text/plain": [
              "TensorShape([2, 80, 120, 3])"
            ]
          },
          "metadata": {},
          "execution_count": 22
        }
      ]
    },
    {
      "cell_type": "markdown",
      "source": [
        "# Applying filters"
      ],
      "metadata": {
        "id": "GnJGai-eLtNq"
      }
    },
    {
      "cell_type": "code",
      "source": [
        "conv_layer = tf.keras.layers.Conv2D(filters=32, kernel_size=7)"
      ],
      "metadata": {
        "id": "orEPuzzrHkR_"
      },
      "execution_count": 23,
      "outputs": []
    },
    {
      "cell_type": "code",
      "source": [
        "fmaps = conv_layer(images)"
      ],
      "metadata": {
        "id": "Fof-dbSwH_HZ"
      },
      "execution_count": 24,
      "outputs": []
    },
    {
      "cell_type": "code",
      "source": [
        "fmaps.shape"
      ],
      "metadata": {
        "colab": {
          "base_uri": "https://localhost:8080/"
        },
        "id": "WtNEhLzPIFaT",
        "outputId": "d074b278-04a4-41a3-ac04-061ae867d6ac"
      },
      "execution_count": 25,
      "outputs": [
        {
          "output_type": "execute_result",
          "data": {
            "text/plain": [
              "TensorShape([2, 74, 114, 32])"
            ]
          },
          "metadata": {},
          "execution_count": 25
        }
      ]
    },
    {
      "cell_type": "markdown",
      "source": [
        "# Adding the padding"
      ],
      "metadata": {
        "id": "CONX6ODFL3np"
      }
    },
    {
      "cell_type": "code",
      "source": [
        "conv_layer = tf.keras.layers.Conv2D(filters=32, kernel_size=7,\n",
        "                                    padding = \"same\")"
      ],
      "metadata": {
        "id": "G6TniBHlIILE"
      },
      "execution_count": 26,
      "outputs": []
    },
    {
      "cell_type": "code",
      "source": [
        "fmaps = conv_layer(images)"
      ],
      "metadata": {
        "id": "63mr9OTpI2oZ"
      },
      "execution_count": 27,
      "outputs": []
    },
    {
      "cell_type": "code",
      "source": [
        "fmaps.shape"
      ],
      "metadata": {
        "colab": {
          "base_uri": "https://localhost:8080/"
        },
        "id": "CXeVoZc1I55z",
        "outputId": "08f10c32-5a0a-4b03-9f85-a7b38f494e92"
      },
      "execution_count": 28,
      "outputs": [
        {
          "output_type": "execute_result",
          "data": {
            "text/plain": [
              "TensorShape([2, 80, 120, 32])"
            ]
          },
          "metadata": {},
          "execution_count": 28
        }
      ]
    },
    {
      "cell_type": "markdown",
      "source": [
        "# Exporing kernels and biases"
      ],
      "metadata": {
        "id": "RMhtdhywL7l_"
      }
    },
    {
      "cell_type": "code",
      "source": [
        "kernels, biases = conv_layer.get_weights()"
      ],
      "metadata": {
        "id": "FWbggS-mI8YK"
      },
      "execution_count": 29,
      "outputs": []
    },
    {
      "cell_type": "code",
      "source": [
        "kernels.shape"
      ],
      "metadata": {
        "colab": {
          "base_uri": "https://localhost:8080/"
        },
        "id": "GzpOu1cOJVRY",
        "outputId": "0156d254-356a-45c4-ada1-9f954a08bc0a"
      },
      "execution_count": 30,
      "outputs": [
        {
          "output_type": "execute_result",
          "data": {
            "text/plain": [
              "(7, 7, 3, 32)"
            ]
          },
          "metadata": {},
          "execution_count": 30
        }
      ]
    },
    {
      "cell_type": "code",
      "source": [
        "biases.shape"
      ],
      "metadata": {
        "colab": {
          "base_uri": "https://localhost:8080/"
        },
        "id": "SG4xuiFoJXZR",
        "outputId": "ea1f8789-cbde-4069-dc63-da10a7d95cd9"
      },
      "execution_count": 31,
      "outputs": [
        {
          "output_type": "execute_result",
          "data": {
            "text/plain": [
              "(32,)"
            ]
          },
          "metadata": {},
          "execution_count": 31
        }
      ]
    },
    {
      "cell_type": "markdown",
      "source": [
        "# Applying the Pooling"
      ],
      "metadata": {
        "id": "WRODAdXJMAlA"
      }
    },
    {
      "cell_type": "code",
      "source": [
        "max_pool = tf.keras.layers.MaxPool2D(pool_size=2)"
      ],
      "metadata": {
        "id": "VmesPYHxJjRf"
      },
      "execution_count": 32,
      "outputs": []
    },
    {
      "cell_type": "code",
      "source": [
        "output = max_pool(images)"
      ],
      "metadata": {
        "id": "pnUhKha2J1In"
      },
      "execution_count": 33,
      "outputs": []
    },
    {
      "cell_type": "code",
      "source": [
        "output.shape"
      ],
      "metadata": {
        "colab": {
          "base_uri": "https://localhost:8080/"
        },
        "id": "JNLEC51ZJ9_Z",
        "outputId": "6cc16122-dbe3-4cb0-f985-b1f090a79ca4"
      },
      "execution_count": 34,
      "outputs": [
        {
          "output_type": "execute_result",
          "data": {
            "text/plain": [
              "TensorShape([2, 40, 60, 3])"
            ]
          },
          "metadata": {},
          "execution_count": 34
        }
      ]
    },
    {
      "cell_type": "markdown",
      "source": [
        "# Global Average Pooling"
      ],
      "metadata": {
        "id": "GsXTPHozMEmX"
      }
    },
    {
      "cell_type": "code",
      "source": [
        "global_avg_pool = tf.keras.layers.GlobalAvgPool2D()"
      ],
      "metadata": {
        "id": "XnxT5q3DKBZZ"
      },
      "execution_count": 35,
      "outputs": []
    },
    {
      "cell_type": "code",
      "source": [
        "global_avg_pool(images)"
      ],
      "metadata": {
        "colab": {
          "base_uri": "https://localhost:8080/"
        },
        "id": "gQGsJxVdKxBa",
        "outputId": "f05ab6f1-1c0b-4d91-cf13-ef038ebef1b7"
      },
      "execution_count": 36,
      "outputs": [
        {
          "output_type": "execute_result",
          "data": {
            "text/plain": [
              "<tf.Tensor: shape=(2, 3), dtype=float32, numpy=\n",
              "array([[0.6368122 , 0.595365  , 0.5791015 ],\n",
              "       [0.76797295, 0.26938868, 0.11366344]], dtype=float32)>"
            ]
          },
          "metadata": {},
          "execution_count": 36
        }
      ]
    },
    {
      "cell_type": "markdown",
      "source": [
        "Let's connect 🔗 [YouTube](https://www.youtube.com/c/TirendazAcademy) | [Medium](https://tirendazacademy.medium.com) | [Twitter](https://twitter.com/TirendazAcademy) | [Instagram](https://www.instagram.com/tirendazacademy) | [GitHub](https://github.com/TirendazAcademy) | [LinkedIn](https://www.linkedin.com/in/tirendaz-academy)"
      ],
      "metadata": {
        "id": "IxZ5csd5MLbF"
      }
    }
  ]
}