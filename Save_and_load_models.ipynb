{
  "nbformat": 4,
  "nbformat_minor": 0,
  "metadata": {
    "colab": {
      "provenance": [],
      "authorship_tag": "ABX9TyNRdCnNxubyoeZ9B0d5kTSD",
      "include_colab_link": true
    },
    "kernelspec": {
      "name": "python3",
      "display_name": "Python 3"
    },
    "language_info": {
      "name": "python"
    },
    "accelerator": "GPU",
    "gpuClass": "standard"
  },
  "cells": [
    {
      "cell_type": "markdown",
      "metadata": {
        "id": "view-in-github",
        "colab_type": "text"
      },
      "source": [
        "<a href=\"https://colab.research.google.com/github/TirendazAcademy/Deep-Learning-with-TensorFlow/blob/main/Save_and_load_models.ipynb\" target=\"_parent\"><img src=\"https://colab.research.google.com/assets/colab-badge.svg\" alt=\"Open In Colab\"/></a>"
      ]
    },
    {
      "cell_type": "markdown",
      "source": [
        "# Loading the Dataset"
      ],
      "metadata": {
        "id": "apG3xw02JmzI"
      }
    },
    {
      "cell_type": "code",
      "source": [
        "import tensorflow as tf\n",
        "from tensorflow import keras"
      ],
      "metadata": {
        "id": "simODhhp9cvS"
      },
      "execution_count": 1,
      "outputs": []
    },
    {
      "cell_type": "code",
      "source": [
        "(train_images, train_labels), (test_images, test_labels) = tf.keras.datasets.mnist.load_data()"
      ],
      "metadata": {
        "colab": {
          "base_uri": "https://localhost:8080/"
        },
        "id": "S1G02mXS-Oie",
        "outputId": "da80e3ad-765d-400b-8ae3-f155e0bbf01b"
      },
      "execution_count": 2,
      "outputs": [
        {
          "output_type": "stream",
          "name": "stdout",
          "text": [
            "Downloading data from https://storage.googleapis.com/tensorflow/tf-keras-datasets/mnist.npz\n",
            "11490434/11490434 [==============================] - 0s 0us/step\n"
          ]
        }
      ]
    },
    {
      "cell_type": "markdown",
      "source": [
        "# Data Preprocessing"
      ],
      "metadata": {
        "id": "9nTbi2CuJsK0"
      }
    },
    {
      "cell_type": "code",
      "source": [
        "train_labels = train_labels[:1000]\n",
        "test_labels = test_labels[:1000]"
      ],
      "metadata": {
        "id": "Tq5a7V0b-Tm7"
      },
      "execution_count": 3,
      "outputs": []
    },
    {
      "cell_type": "code",
      "source": [
        "train_images = train_images[:1000].reshape(-1, 28 * 28) / 255.0\n",
        "test_images = test_images[:1000].reshape(-1, 28 * 28) / 255.0"
      ],
      "metadata": {
        "id": "0o4yBAhh-oMX"
      },
      "execution_count": 4,
      "outputs": []
    },
    {
      "cell_type": "markdown",
      "source": [
        "# Modeling"
      ],
      "metadata": {
        "id": "BSrxDMuvJwI7"
      }
    },
    {
      "cell_type": "code",
      "source": [
        "def create_model():\n",
        "  model = tf.keras.Sequential([\n",
        "    keras.layers.Dense(512, activation='relu', input_shape=(784,)),\n",
        "    keras.layers.Dropout(0.2),\n",
        "    keras.layers.Dense(10)\n",
        "  ])\n",
        "  \n",
        "  model.compile(optimizer='adam',\n",
        "                loss=tf.keras.losses.SparseCategoricalCrossentropy(from_logits=True),\n",
        "                metrics=[tf.keras.metrics.SparseCategoricalAccuracy()])\n",
        "\n",
        "  return model"
      ],
      "metadata": {
        "id": "rMTj4t77-rmS"
      },
      "execution_count": 5,
      "outputs": []
    },
    {
      "cell_type": "code",
      "source": [
        "model = create_model()\n",
        "model.summary()"
      ],
      "metadata": {
        "id": "FVLY0XCn-v9a",
        "colab": {
          "base_uri": "https://localhost:8080/"
        },
        "outputId": "ae8c91e8-7a52-4ab8-f1d4-ba3c364cddf8"
      },
      "execution_count": 6,
      "outputs": [
        {
          "output_type": "stream",
          "name": "stdout",
          "text": [
            "Model: \"sequential\"\n",
            "_________________________________________________________________\n",
            " Layer (type)                Output Shape              Param #   \n",
            "=================================================================\n",
            " dense (Dense)               (None, 512)               401920    \n",
            "                                                                 \n",
            " dropout (Dropout)           (None, 512)               0         \n",
            "                                                                 \n",
            " dense_1 (Dense)             (None, 10)                5130      \n",
            "                                                                 \n",
            "=================================================================\n",
            "Total params: 407,050\n",
            "Trainable params: 407,050\n",
            "Non-trainable params: 0\n",
            "_________________________________________________________________\n"
          ]
        }
      ]
    },
    {
      "cell_type": "markdown",
      "source": [
        "# Saving the Model"
      ],
      "metadata": {
        "id": "z6KkwHQRJyph"
      }
    },
    {
      "cell_type": "code",
      "source": [
        "import os \n",
        "checkpoint_path = \"training_1/my_checkpoints\"\n",
        "checkpoint_dir = os.path.dirname(checkpoint_path)"
      ],
      "metadata": {
        "id": "3pyoIIlM_1_h"
      },
      "execution_count": 7,
      "outputs": []
    },
    {
      "cell_type": "code",
      "source": [
        "checkpoint_cb = tf.keras.callbacks.ModelCheckpoint(filepath=checkpoint_path,\n",
        "                                                 save_weights_only=True)"
      ],
      "metadata": {
        "id": "f8roJV2tAA7c"
      },
      "execution_count": 8,
      "outputs": []
    },
    {
      "cell_type": "code",
      "source": [
        "model.fit(train_images, \n",
        "          train_labels,  \n",
        "          epochs=10,\n",
        "          validation_data=(test_images, test_labels),\n",
        "          callbacks=[checkpoint_cb]) "
      ],
      "metadata": {
        "colab": {
          "base_uri": "https://localhost:8080/"
        },
        "id": "71irwhfaAESq",
        "outputId": "0f5e8e02-3751-4f6d-b18d-63994d53e168"
      },
      "execution_count": 9,
      "outputs": [
        {
          "output_type": "stream",
          "name": "stdout",
          "text": [
            "Epoch 1/10\n",
            "32/32 [==============================] - 9s 20ms/step - loss: 1.1621 - sparse_categorical_accuracy: 0.6860 - val_loss: 0.7686 - val_sparse_categorical_accuracy: 0.7480\n",
            "Epoch 2/10\n",
            "32/32 [==============================] - 0s 11ms/step - loss: 0.4376 - sparse_categorical_accuracy: 0.8800 - val_loss: 0.5074 - val_sparse_categorical_accuracy: 0.8440\n",
            "Epoch 3/10\n",
            "32/32 [==============================] - 0s 11ms/step - loss: 0.2805 - sparse_categorical_accuracy: 0.9240 - val_loss: 0.4993 - val_sparse_categorical_accuracy: 0.8400\n",
            "Epoch 4/10\n",
            "32/32 [==============================] - 0s 12ms/step - loss: 0.2097 - sparse_categorical_accuracy: 0.9460 - val_loss: 0.4288 - val_sparse_categorical_accuracy: 0.8630\n",
            "Epoch 5/10\n",
            "32/32 [==============================] - 0s 7ms/step - loss: 0.1465 - sparse_categorical_accuracy: 0.9740 - val_loss: 0.4303 - val_sparse_categorical_accuracy: 0.8590\n",
            "Epoch 6/10\n",
            "32/32 [==============================] - 0s 7ms/step - loss: 0.1114 - sparse_categorical_accuracy: 0.9810 - val_loss: 0.4293 - val_sparse_categorical_accuracy: 0.8590\n",
            "Epoch 7/10\n",
            "32/32 [==============================] - 0s 6ms/step - loss: 0.0866 - sparse_categorical_accuracy: 0.9830 - val_loss: 0.4090 - val_sparse_categorical_accuracy: 0.8680\n",
            "Epoch 8/10\n",
            "32/32 [==============================] - 0s 9ms/step - loss: 0.0601 - sparse_categorical_accuracy: 0.9960 - val_loss: 0.4239 - val_sparse_categorical_accuracy: 0.8650\n",
            "Epoch 9/10\n",
            "32/32 [==============================] - 0s 7ms/step - loss: 0.0502 - sparse_categorical_accuracy: 0.9950 - val_loss: 0.4174 - val_sparse_categorical_accuracy: 0.8640\n",
            "Epoch 10/10\n",
            "32/32 [==============================] - 0s 6ms/step - loss: 0.0383 - sparse_categorical_accuracy: 0.9990 - val_loss: 0.4048 - val_sparse_categorical_accuracy: 0.8740\n"
          ]
        },
        {
          "output_type": "execute_result",
          "data": {
            "text/plain": [
              "<keras.callbacks.History at 0x7fda10bf6fa0>"
            ]
          },
          "metadata": {},
          "execution_count": 9
        }
      ]
    },
    {
      "cell_type": "code",
      "source": [
        "os.listdir(checkpoint_dir)"
      ],
      "metadata": {
        "colab": {
          "base_uri": "https://localhost:8080/"
        },
        "id": "HynYVdlqCHVv",
        "outputId": "a2a809bf-233b-41ec-9977-84cff394fdb6"
      },
      "execution_count": 10,
      "outputs": [
        {
          "output_type": "execute_result",
          "data": {
            "text/plain": [
              "['my_checkpoints.index', 'my_checkpoints.data-00000-of-00001', 'checkpoint']"
            ]
          },
          "metadata": {},
          "execution_count": 10
        }
      ]
    },
    {
      "cell_type": "markdown",
      "source": [
        "# Loading the Weights"
      ],
      "metadata": {
        "id": "yjqEYLnYJ7zl"
      }
    },
    {
      "cell_type": "code",
      "source": [
        "model = create_model()"
      ],
      "metadata": {
        "id": "70X1XvwBFRch"
      },
      "execution_count": 11,
      "outputs": []
    },
    {
      "cell_type": "code",
      "source": [
        "loss, acc = model.evaluate(test_images, test_labels, verbose=2)\n",
        "print(f\"Untrained model, accuracy: {100 * acc:5.2f}%\")"
      ],
      "metadata": {
        "colab": {
          "base_uri": "https://localhost:8080/"
        },
        "id": "oKAHlryFFUCO",
        "outputId": "0f359f0e-e562-4ea1-f18d-ea89640c5121"
      },
      "execution_count": 12,
      "outputs": [
        {
          "output_type": "stream",
          "name": "stdout",
          "text": [
            "32/32 - 0s - loss: 2.4157 - sparse_categorical_accuracy: 0.1070 - 170ms/epoch - 5ms/step\n",
            "Untrained model, accuracy: 10.70%\n"
          ]
        }
      ]
    },
    {
      "cell_type": "code",
      "source": [
        "model.load_weights(checkpoint_path)\n",
        "loss, acc = model.evaluate(test_images, test_labels, verbose=2)\n",
        "print(f\"Untrained model, accuracy: {100 * acc:5.2f}%\")"
      ],
      "metadata": {
        "id": "xYBwxizMFcb8",
        "outputId": "d06c91a6-2f47-41ed-b97c-fe3bc3634ac5",
        "colab": {
          "base_uri": "https://localhost:8080/"
        }
      },
      "execution_count": 13,
      "outputs": [
        {
          "output_type": "stream",
          "name": "stdout",
          "text": [
            "32/32 - 0s - loss: 0.4048 - sparse_categorical_accuracy: 0.8740 - 71ms/epoch - 2ms/step\n",
            "Untrained model, accuracy: 87.40%\n"
          ]
        }
      ]
    },
    {
      "cell_type": "markdown",
      "source": [
        "# Checkpoint callback options"
      ],
      "metadata": {
        "id": "aMw53q0TKQ_C"
      }
    },
    {
      "cell_type": "code",
      "source": [
        "checkpoint_path = \"training_2/cp-{epoch:04d}.ckpt\"\n",
        "checkpoint_dir = os.path.dirname(checkpoint_path)\n",
        "batch_size = 32\n",
        "checkpoint_cb = tf.keras.callbacks.ModelCheckpoint(\n",
        "    filepath=checkpoint_path, \n",
        "    verbose=1, \n",
        "    save_weights_only=True,\n",
        "    save_freq=5*batch_size)"
      ],
      "metadata": {
        "id": "b0NJyWQDKSAD"
      },
      "execution_count": 14,
      "outputs": []
    },
    {
      "cell_type": "code",
      "source": [
        "model = create_model()\n",
        "#model.save_weights(checkpoint_path.format(epoch=0))\n",
        "model.fit(train_images, \n",
        "          train_labels,\n",
        "          epochs=50, \n",
        "          batch_size=batch_size, \n",
        "          callbacks=[checkpoint_cb],\n",
        "          validation_data=(test_images, test_labels),\n",
        "          verbose=0)"
      ],
      "metadata": {
        "colab": {
          "base_uri": "https://localhost:8080/"
        },
        "id": "3pAIZ12dK8l8",
        "outputId": "c8358044-9a98-4889-ee95-270d6a54acd7"
      },
      "execution_count": 15,
      "outputs": [
        {
          "output_type": "stream",
          "name": "stdout",
          "text": [
            "\n",
            "Epoch 5: saving model to training_2/cp-0005.ckpt\n",
            "\n",
            "Epoch 10: saving model to training_2/cp-0010.ckpt\n",
            "\n",
            "Epoch 15: saving model to training_2/cp-0015.ckpt\n",
            "\n",
            "Epoch 20: saving model to training_2/cp-0020.ckpt\n",
            "\n",
            "Epoch 25: saving model to training_2/cp-0025.ckpt\n",
            "\n",
            "Epoch 30: saving model to training_2/cp-0030.ckpt\n",
            "\n",
            "Epoch 35: saving model to training_2/cp-0035.ckpt\n",
            "\n",
            "Epoch 40: saving model to training_2/cp-0040.ckpt\n",
            "\n",
            "Epoch 45: saving model to training_2/cp-0045.ckpt\n",
            "\n",
            "Epoch 50: saving model to training_2/cp-0050.ckpt\n"
          ]
        },
        {
          "output_type": "execute_result",
          "data": {
            "text/plain": [
              "<keras.callbacks.History at 0x7fda08021820>"
            ]
          },
          "metadata": {},
          "execution_count": 15
        }
      ]
    },
    {
      "cell_type": "code",
      "source": [
        "os.listdir(checkpoint_dir)"
      ],
      "metadata": {
        "colab": {
          "base_uri": "https://localhost:8080/"
        },
        "id": "j2nJ-4R0MGoX",
        "outputId": "3a192d53-7663-4e93-83be-399192689ca5"
      },
      "execution_count": 16,
      "outputs": [
        {
          "output_type": "execute_result",
          "data": {
            "text/plain": [
              "['cp-0030.ckpt.data-00000-of-00001',\n",
              " 'cp-0015.ckpt.index',\n",
              " 'cp-0050.ckpt.data-00000-of-00001',\n",
              " 'cp-0010.ckpt.data-00000-of-00001',\n",
              " 'cp-0025.ckpt.data-00000-of-00001',\n",
              " 'cp-0005.ckpt.data-00000-of-00001',\n",
              " 'checkpoint',\n",
              " 'cp-0015.ckpt.data-00000-of-00001',\n",
              " 'cp-0045.ckpt.index',\n",
              " 'cp-0040.ckpt.index',\n",
              " 'cp-0035.ckpt.index',\n",
              " 'cp-0030.ckpt.index',\n",
              " 'cp-0010.ckpt.index',\n",
              " 'cp-0005.ckpt.index',\n",
              " 'cp-0020.ckpt.index',\n",
              " 'cp-0050.ckpt.index',\n",
              " 'cp-0035.ckpt.data-00000-of-00001',\n",
              " 'cp-0020.ckpt.data-00000-of-00001',\n",
              " 'cp-0045.ckpt.data-00000-of-00001',\n",
              " 'cp-0040.ckpt.data-00000-of-00001',\n",
              " 'cp-0025.ckpt.index']"
            ]
          },
          "metadata": {},
          "execution_count": 16
        }
      ]
    },
    {
      "cell_type": "code",
      "source": [
        "latest = tf.train.latest_checkpoint(checkpoint_dir)\n",
        "latest"
      ],
      "metadata": {
        "colab": {
          "base_uri": "https://localhost:8080/",
          "height": 35
        },
        "id": "Y7pItBZxLoQJ",
        "outputId": "cc6cfd1b-8cab-4a5b-87bb-0e06eb41e9b6"
      },
      "execution_count": 17,
      "outputs": [
        {
          "output_type": "execute_result",
          "data": {
            "text/plain": [
              "'training_2/cp-0050.ckpt'"
            ],
            "application/vnd.google.colaboratory.intrinsic+json": {
              "type": "string"
            }
          },
          "metadata": {},
          "execution_count": 17
        }
      ]
    },
    {
      "cell_type": "code",
      "source": [
        "model = create_model()\n",
        "model.load_weights(latest)"
      ],
      "metadata": {
        "colab": {
          "base_uri": "https://localhost:8080/"
        },
        "id": "TjE1ySO2M1Jg",
        "outputId": "d98c0e98-ef7c-48b1-8be2-53e2128945db"
      },
      "execution_count": 18,
      "outputs": [
        {
          "output_type": "execute_result",
          "data": {
            "text/plain": [
              "<tensorflow.python.checkpoint.checkpoint.CheckpointLoadStatus at 0x7fd98a5f6790>"
            ]
          },
          "metadata": {},
          "execution_count": 18
        }
      ]
    },
    {
      "cell_type": "code",
      "source": [
        "loss, acc = model.evaluate(test_images, test_labels, verbose=2)\n",
        "print(f\"Restored model, accuracy: {100 * acc:5.2f}%\")"
      ],
      "metadata": {
        "colab": {
          "base_uri": "https://localhost:8080/"
        },
        "id": "QNHGp0-BM6UO",
        "outputId": "da8d1674-9ccb-4a94-c327-3d8146b016f8"
      },
      "execution_count": 19,
      "outputs": [
        {
          "output_type": "stream",
          "name": "stdout",
          "text": [
            "32/32 - 0s - loss: 0.4928 - sparse_categorical_accuracy: 0.8730 - 168ms/epoch - 5ms/step\n",
            "Restored model, accuracy: 87.30%\n"
          ]
        }
      ]
    },
    {
      "cell_type": "markdown",
      "source": [
        "# EarlyStopping Callback"
      ],
      "metadata": {
        "id": "Ksd_oXJTNGR0"
      }
    },
    {
      "cell_type": "code",
      "source": [
        "early_stopping_cb = tf.keras.callbacks.EarlyStopping(patience=5,\n",
        "                                                     restore_best_weights=True)\n",
        "checkpoint_path = \"training_3/my_checkpoints\"\n",
        "checkpoint_dir = os.path.dirname(checkpoint_path)\n",
        "checkpoint_cb = tf.keras.callbacks.ModelCheckpoint(filepath=checkpoint_path, \n",
        "                                                 save_weights_only=True)\n",
        "history = model.fit(\n",
        "    train_images, \n",
        "    train_labels,\n",
        "    epochs=50,\n",
        "    validation_data=(test_images, test_labels),\n",
        "    callbacks=[checkpoint_cb, early_stopping_cb])"
      ],
      "metadata": {
        "colab": {
          "base_uri": "https://localhost:8080/"
        },
        "id": "OFPC-oOQNH5i",
        "outputId": "680d6e4c-10f2-4e3f-90d5-9935f2962ea8"
      },
      "execution_count": 20,
      "outputs": [
        {
          "output_type": "stream",
          "name": "stdout",
          "text": [
            "Epoch 1/50\n",
            "32/32 [==============================] - 1s 8ms/step - loss: 0.0010 - sparse_categorical_accuracy: 1.0000 - val_loss: 0.4981 - val_sparse_categorical_accuracy: 0.8740\n",
            "Epoch 2/50\n",
            "32/32 [==============================] - 0s 9ms/step - loss: 9.9067e-04 - sparse_categorical_accuracy: 1.0000 - val_loss: 0.5059 - val_sparse_categorical_accuracy: 0.8720\n",
            "Epoch 3/50\n",
            "32/32 [==============================] - 0s 6ms/step - loss: 0.0011 - sparse_categorical_accuracy: 1.0000 - val_loss: 0.5057 - val_sparse_categorical_accuracy: 0.8730\n",
            "Epoch 4/50\n",
            "32/32 [==============================] - 0s 7ms/step - loss: 0.0011 - sparse_categorical_accuracy: 1.0000 - val_loss: 0.5035 - val_sparse_categorical_accuracy: 0.8730\n",
            "Epoch 5/50\n",
            "32/32 [==============================] - 0s 7ms/step - loss: 9.2510e-04 - sparse_categorical_accuracy: 1.0000 - val_loss: 0.5063 - val_sparse_categorical_accuracy: 0.8790\n",
            "Epoch 6/50\n",
            "32/32 [==============================] - 0s 9ms/step - loss: 9.5774e-04 - sparse_categorical_accuracy: 1.0000 - val_loss: 0.5085 - val_sparse_categorical_accuracy: 0.8740\n"
          ]
        }
      ]
    },
    {
      "cell_type": "markdown",
      "source": [
        "# Save the entire model"
      ],
      "metadata": {
        "id": "-UMS8CRmQgVJ"
      }
    },
    {
      "cell_type": "code",
      "source": [
        "!mkdir saved_model"
      ],
      "metadata": {
        "id": "YdnBlh-XQhVl"
      },
      "execution_count": 21,
      "outputs": []
    },
    {
      "cell_type": "code",
      "source": [
        "model.save('saved_model/my_model')"
      ],
      "metadata": {
        "id": "U9Q1oiOsQv8m"
      },
      "execution_count": 22,
      "outputs": []
    },
    {
      "cell_type": "code",
      "source": [
        "!ls saved_model/my_model"
      ],
      "metadata": {
        "colab": {
          "base_uri": "https://localhost:8080/"
        },
        "id": "7_7PRekAQyTF",
        "outputId": "7b174661-3b1c-4364-e610-c34906626d0f"
      },
      "execution_count": 23,
      "outputs": [
        {
          "output_type": "stream",
          "name": "stdout",
          "text": [
            "assets\tfingerprint.pb\tkeras_metadata.pb  saved_model.pb  variables\n"
          ]
        }
      ]
    },
    {
      "cell_type": "code",
      "source": [
        "new_model = create_model()\n",
        "new_model = tf.keras.models.load_model('saved_model/my_model')"
      ],
      "metadata": {
        "id": "o0M7k4gfQ_6N"
      },
      "execution_count": 24,
      "outputs": []
    },
    {
      "cell_type": "code",
      "source": [
        "new_model.summary()"
      ],
      "metadata": {
        "colab": {
          "base_uri": "https://localhost:8080/"
        },
        "id": "Q9rdWkMMRB93",
        "outputId": "534f34ad-fc14-4a5c-9005-178491436769"
      },
      "execution_count": 25,
      "outputs": [
        {
          "output_type": "stream",
          "name": "stdout",
          "text": [
            "Model: \"sequential_3\"\n",
            "_________________________________________________________________\n",
            " Layer (type)                Output Shape              Param #   \n",
            "=================================================================\n",
            " dense_6 (Dense)             (None, 512)               401920    \n",
            "                                                                 \n",
            " dropout_3 (Dropout)         (None, 512)               0         \n",
            "                                                                 \n",
            " dense_7 (Dense)             (None, 10)                5130      \n",
            "                                                                 \n",
            "=================================================================\n",
            "Total params: 407,050\n",
            "Trainable params: 407,050\n",
            "Non-trainable params: 0\n",
            "_________________________________________________________________\n"
          ]
        }
      ]
    },
    {
      "cell_type": "code",
      "source": [
        "loss, acc = new_model.evaluate(test_images, test_labels, verbose=2)\n",
        "print(f'Restored model, accuracy: {100 * acc:5.2f}%')"
      ],
      "metadata": {
        "colab": {
          "base_uri": "https://localhost:8080/"
        },
        "id": "xiv9UbpxRd1a",
        "outputId": "3e5805e0-86e0-4109-b7a3-21b5bfb84d90"
      },
      "execution_count": 26,
      "outputs": [
        {
          "output_type": "stream",
          "name": "stdout",
          "text": [
            "32/32 - 0s - loss: 0.4981 - sparse_categorical_accuracy: 0.8740 - 189ms/epoch - 6ms/step\n",
            "Restored model, accuracy: 87.40%\n"
          ]
        }
      ]
    },
    {
      "cell_type": "markdown",
      "source": [
        "Let's connect [YouTube](http://youtube.com/tirendazacademy) | [Medium](http://tirendazacademy.medium.com) | [Twitter](http://twitter.com/tirendazacademy) | [Instagram](https://www.instagram.com/tirendazacademy) | [GitHub](http://github.com/tirendazacademy) | [Linkedin](https://www.linkedin.com/in/tirendaz-academy) | [Kaggle](https://www.kaggle.com/tirendazacademy) 😎"
      ],
      "metadata": {
        "id": "ycfdjIG7TqKx"
      }
    }
  ]
}