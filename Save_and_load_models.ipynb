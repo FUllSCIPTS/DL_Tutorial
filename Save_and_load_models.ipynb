{
  "nbformat": 4,
  "nbformat_minor": 0,
  "metadata": {
    "colab": {
      "provenance": [],
      "authorship_tag": "ABX9TyPIJacKfChc0GSpQl/Wv6r4",
      "include_colab_link": true
    },
    "kernelspec": {
      "name": "python3",
      "display_name": "Python 3"
    },
    "language_info": {
      "name": "python"
    },
    "accelerator": "GPU",
    "gpuClass": "standard"
  },
  "cells": [
    {
      "cell_type": "markdown",
      "metadata": {
        "id": "view-in-github",
        "colab_type": "text"
      },
      "source": [
        "<a href=\"https://colab.research.google.com/github/TirendazAcademy/Deep-Learning-with-TensorFlow/blob/main/Save_and_load_models.ipynb\" target=\"_parent\"><img src=\"https://colab.research.google.com/assets/colab-badge.svg\" alt=\"Open In Colab\"/></a>"
      ]
    },
    {
      "cell_type": "markdown",
      "source": [
        "# Loading the Dataset"
      ],
      "metadata": {
        "id": "apG3xw02JmzI"
      }
    },
    {
      "cell_type": "code",
      "source": [
        "import tensorflow as tf\n",
        "from tensorflow import keras"
      ],
      "metadata": {
        "id": "simODhhp9cvS"
      },
      "execution_count": null,
      "outputs": []
    },
    {
      "cell_type": "code",
      "source": [
        "(train_images, train_labels), (test_images, test_labels) = tf.keras.datasets.mnist.load_data()"
      ],
      "metadata": {
        "colab": {
          "base_uri": "https://localhost:8080/"
        },
        "id": "S1G02mXS-Oie",
        "outputId": "cd0c5ecc-aa5c-4f14-a38d-09914408b43a"
      },
      "execution_count": null,
      "outputs": [
        {
          "output_type": "stream",
          "name": "stdout",
          "text": [
            "Downloading data from https://storage.googleapis.com/tensorflow/tf-keras-datasets/mnist.npz\n",
            "11490434/11490434 [==============================] - 2s 0us/step\n"
          ]
        }
      ]
    },
    {
      "cell_type": "markdown",
      "source": [
        "# Data Preprocessing"
      ],
      "metadata": {
        "id": "9nTbi2CuJsK0"
      }
    },
    {
      "cell_type": "code",
      "source": [
        "train_labels = train_labels[:1000]\n",
        "test_labels = test_labels[:1000]"
      ],
      "metadata": {
        "id": "Tq5a7V0b-Tm7"
      },
      "execution_count": null,
      "outputs": []
    },
    {
      "cell_type": "code",
      "source": [
        "train_images = train_images[:1000].reshape(-1, 28 * 28) / 255.0\n",
        "test_images = test_images[:1000].reshape(-1, 28 * 28) / 255.0"
      ],
      "metadata": {
        "id": "0o4yBAhh-oMX"
      },
      "execution_count": null,
      "outputs": []
    },
    {
      "cell_type": "markdown",
      "source": [
        "# Modeling"
      ],
      "metadata": {
        "id": "BSrxDMuvJwI7"
      }
    },
    {
      "cell_type": "code",
      "source": [
        "def create_model():\n",
        "  model = tf.keras.Sequential([\n",
        "    keras.layers.Dense(512, activation='relu', input_shape=(784,)),\n",
        "    keras.layers.Dropout(0.2),\n",
        "    keras.layers.Dense(10)\n",
        "  ])\n",
        "  \n",
        "  model.compile(optimizer='adam',\n",
        "                loss=tf.keras.losses.SparseCategoricalCrossentropy(from_logits=True),\n",
        "                metrics=[tf.keras.metrics.SparseCategoricalAccuracy()])\n",
        "\n",
        "  return model"
      ],
      "metadata": {
        "id": "rMTj4t77-rmS"
      },
      "execution_count": null,
      "outputs": []
    },
    {
      "cell_type": "code",
      "source": [
        "model = create_model()\n",
        "model.summary()"
      ],
      "metadata": {
        "id": "FVLY0XCn-v9a"
      },
      "execution_count": null,
      "outputs": []
    },
    {
      "cell_type": "markdown",
      "source": [
        "# Saving the Model"
      ],
      "metadata": {
        "id": "z6KkwHQRJyph"
      }
    },
    {
      "cell_type": "code",
      "source": [
        "import os \n",
        "checkpoint_path = \"training_1/my_checkpoints\"\n",
        "checkpoint_dir = os.path.dirname(checkpoint_path)"
      ],
      "metadata": {
        "id": "3pyoIIlM_1_h"
      },
      "execution_count": null,
      "outputs": []
    },
    {
      "cell_type": "code",
      "source": [
        "cp_callback = tf.keras.callbacks.ModelCheckpoint(filepath=checkpoint_path,\n",
        "                                                 save_weights_only=True)"
      ],
      "metadata": {
        "id": "f8roJV2tAA7c"
      },
      "execution_count": null,
      "outputs": []
    },
    {
      "cell_type": "code",
      "source": [
        "model.fit(train_images, \n",
        "          train_labels,  \n",
        "          epochs=10,\n",
        "          validation_data=(test_images, test_labels),\n",
        "          callbacks=[cp_callback]) "
      ],
      "metadata": {
        "colab": {
          "base_uri": "https://localhost:8080/"
        },
        "id": "71irwhfaAESq",
        "outputId": "c3c05351-1700-4037-fa8a-96fe05681b3b"
      },
      "execution_count": null,
      "outputs": [
        {
          "output_type": "stream",
          "name": "stdout",
          "text": [
            "Epoch 1/10\n",
            "32/32 [==============================] - 0s 8ms/step - loss: 0.0018 - sparse_categorical_accuracy: 1.0000 - val_loss: 0.4793 - val_sparse_categorical_accuracy: 0.8760\n",
            "Epoch 2/10\n",
            "32/32 [==============================] - 0s 7ms/step - loss: 0.0017 - sparse_categorical_accuracy: 1.0000 - val_loss: 0.4796 - val_sparse_categorical_accuracy: 0.8720\n",
            "Epoch 3/10\n",
            "32/32 [==============================] - 0s 6ms/step - loss: 0.0017 - sparse_categorical_accuracy: 1.0000 - val_loss: 0.4726 - val_sparse_categorical_accuracy: 0.8740\n",
            "Epoch 4/10\n",
            "32/32 [==============================] - 0s 6ms/step - loss: 0.0017 - sparse_categorical_accuracy: 1.0000 - val_loss: 0.4786 - val_sparse_categorical_accuracy: 0.8720\n",
            "Epoch 5/10\n",
            "32/32 [==============================] - 0s 6ms/step - loss: 0.0014 - sparse_categorical_accuracy: 1.0000 - val_loss: 0.4847 - val_sparse_categorical_accuracy: 0.8730\n",
            "Epoch 6/10\n",
            "32/32 [==============================] - 0s 6ms/step - loss: 0.0014 - sparse_categorical_accuracy: 1.0000 - val_loss: 0.4818 - val_sparse_categorical_accuracy: 0.8720\n",
            "Epoch 7/10\n",
            "32/32 [==============================] - 0s 6ms/step - loss: 0.0014 - sparse_categorical_accuracy: 1.0000 - val_loss: 0.4871 - val_sparse_categorical_accuracy: 0.8730\n",
            "Epoch 8/10\n",
            "32/32 [==============================] - 0s 6ms/step - loss: 0.0014 - sparse_categorical_accuracy: 1.0000 - val_loss: 0.4812 - val_sparse_categorical_accuracy: 0.8740\n",
            "Epoch 9/10\n",
            "32/32 [==============================] - 0s 6ms/step - loss: 0.0012 - sparse_categorical_accuracy: 1.0000 - val_loss: 0.4855 - val_sparse_categorical_accuracy: 0.8750\n",
            "Epoch 10/10\n",
            "32/32 [==============================] - 0s 6ms/step - loss: 0.0012 - sparse_categorical_accuracy: 1.0000 - val_loss: 0.4889 - val_sparse_categorical_accuracy: 0.8720\n"
          ]
        },
        {
          "output_type": "execute_result",
          "data": {
            "text/plain": [
              "<keras.callbacks.History at 0x7f7ed32d3cd0>"
            ]
          },
          "metadata": {},
          "execution_count": 19
        }
      ]
    },
    {
      "cell_type": "code",
      "source": [
        "os.listdir(checkpoint_dir)"
      ],
      "metadata": {
        "colab": {
          "base_uri": "https://localhost:8080/"
        },
        "id": "HynYVdlqCHVv",
        "outputId": "343b2a83-3451-4ea3-8529-1d54dbd451e1"
      },
      "execution_count": null,
      "outputs": [
        {
          "output_type": "execute_result",
          "data": {
            "text/plain": [
              "['my_checkpoints.data-00000-of-00001', 'my_checkpoints.index', 'checkpoint']"
            ]
          },
          "metadata": {},
          "execution_count": 24
        }
      ]
    },
    {
      "cell_type": "markdown",
      "source": [
        "# Loading the Weights"
      ],
      "metadata": {
        "id": "yjqEYLnYJ7zl"
      }
    },
    {
      "cell_type": "code",
      "source": [
        "model = create_model()"
      ],
      "metadata": {
        "id": "70X1XvwBFRch"
      },
      "execution_count": null,
      "outputs": []
    },
    {
      "cell_type": "code",
      "source": [
        "loss, acc = model.evaluate(test_images, test_labels, verbose=2)\n",
        "print(f\"Untrained model, accuracy: {100 * acc:5.2f}%\")"
      ],
      "metadata": {
        "colab": {
          "base_uri": "https://localhost:8080/"
        },
        "id": "oKAHlryFFUCO",
        "outputId": "ea5bb7e9-4559-4b0f-c684-a1a53e4b0a69"
      },
      "execution_count": null,
      "outputs": [
        {
          "output_type": "stream",
          "name": "stdout",
          "text": [
            "32/32 - 0s - loss: 2.3400 - sparse_categorical_accuracy: 0.0740 - 242ms/epoch - 8ms/step\n",
            "Untrained model, accuracy:  7.40%\n"
          ]
        }
      ]
    },
    {
      "cell_type": "code",
      "source": [
        "model.load_weights(checkpoint_path)\n",
        "loss, acc = model.evaluate(test_images, test_labels, verbose=2)\n",
        "print(f\"Untrained model, accuracy: {100 * acc:5.2f}%\")"
      ],
      "metadata": {
        "id": "xYBwxizMFcb8",
        "outputId": "3be73fd3-cf38-407c-aea7-bcf803f0a79d",
        "colab": {
          "base_uri": "https://localhost:8080/"
        }
      },
      "execution_count": null,
      "outputs": [
        {
          "output_type": "stream",
          "name": "stdout",
          "text": [
            "32/32 - 0s - loss: 0.5165 - sparse_categorical_accuracy: 0.8770 - 69ms/epoch - 2ms/step\n",
            "Untrained model, accuracy: 87.70%\n"
          ]
        }
      ]
    }
  ]
}