{
 "cells": [
  {
   "cell_type": "markdown",
   "id": "dfda6564",
   "metadata": {},
   "source": [
    "# Transfer Learning with TensorFlow"
   ]
  },
  {
   "cell_type": "markdown",
   "id": "38e54a48",
   "metadata": {},
   "source": [
    "Classical methods showed poor performance for image and text classification problems. , the model which based on deep learing used to solve these problems. There are very much popular models which test and open source that they are avaible for transfer learning.\n",
    "\n",
    "The models such as ResNet are prebuilt and very complicated structures. TensorFlow Hub proposed a variety of ML models freely. You can use these model writting a single line of code. \n",
    "\n",
    "In this tutorial, I am going to show how to use models pretrained in TensorFlow Hub. If you want to install Tensorflow Hub, you can use 'pip install --upgrade tensorflow_hub' command. After installing, first of all, to use I am going to import this library ."
   ]
  },
  {
   "cell_type": "code",
   "execution_count": null,
   "id": "825ec0b4",
   "metadata": {},
   "outputs": [],
   "source": [
    "import tensorflow_hub as hub"
   ]
  },
  {
   "cell_type": "markdown",
   "id": "d7bb5222",
   "metadata": {},
   "source": [
    "Let's show how to use a pretrained text embedding model in tensorFlow Hub."
   ]
  },
  {
   "cell_type": "code",
   "execution_count": null,
   "id": "7f1464f5",
   "metadata": {},
   "outputs": [],
   "source": [
    "model = hub.KerasLayer(\"https://tfhub.dev/google/nnlm-en-dim128/2\")"
   ]
  },
  {
   "cell_type": "markdown",
   "id": "7e25c9cb",
   "metadata": {},
   "source": [
    "Token in this model based text embedding trained on English Google News 200B corpus. Text embedding is a multidimensional vector of numeric representation. Note that you can onlu load and use it to get a result with your own data. \n",
    "\n",
    "You can choose the model in [TensorFlow Hub](https://tfhub.dev/) according to your the dataset. There are very much model for image, text, video, and audio datasets."
   ]
  },
  {
   "cell_type": "markdown",
   "id": "48ab746b",
   "metadata": {},
   "source": [
    "## Image Classification by Transfer Learning"
   ]
  },
  {
   "cell_type": "markdown",
   "id": "5edcff1b",
   "metadata": {},
   "source": [
    "In this section, I am going to talk about how to analyze with transfer learning for classification problem. To show this, let me use flower photos dataset which provided by google. \n",
    "First of all, let's import libraries."
   ]
  },
  {
   "cell_type": "code",
   "execution_count": null,
   "id": "3a5d390c",
   "metadata": {},
   "outputs": [],
   "source": [
    "import tensorflow as tf\n",
    "import tensorflow_hub as hub\n",
    "import numpy as np\n",
    "import matplotlib.pylab as plt"
   ]
  },
  {
   "cell_type": "markdown",
   "id": "cc4c1088",
   "metadata": {},
   "source": [
    "## Loading the Dataset"
   ]
  },
  {
   "cell_type": "markdown",
   "id": "68fdb438",
   "metadata": {},
   "source": [
    "I am going to load the dataset using get_file() method."
   ]
  },
  {
   "cell_type": "code",
   "execution_count": null,
   "id": "20ea62a9",
   "metadata": {},
   "outputs": [],
   "source": [
    "data_dir = tf.keras.utils.get_file(\n",
    "    'flower_photos',\n",
    "    'https://storage.googleapis.com/download.tensorflow.org/example_images/flower_photos.tgz',\n",
    "    untar=True)"
   ]
  },
  {
   "cell_type": "markdown",
   "id": "9d975533",
   "metadata": {},
   "source": [
    "By default, you can see this dataset in .keras file such as /root/.keras/datasets/flower_photos. "
   ]
  },
  {
   "cell_type": "markdown",
   "id": "96a5f7b2",
   "metadata": {},
   "source": [
    "## Preprocessing the Dataset"
   ]
  },
  {
   "cell_type": "markdown",
   "id": "b659a1d1",
   "metadata": {},
   "source": [
    "Now that I am going to define some hyperparameters such as pixel values and batch size."
   ]
  },
  {
   "cell_type": "code",
   "execution_count": null,
   "id": "ba51194b",
   "metadata": {},
   "outputs": [],
   "source": [
    "pixels =224\n",
    "BATCH_SIZE = 32\n",
    "IMAGE_SIZE = (pixels, pixels)\n",
    "NUM_CLASSES = 5"
   ]
  },
  {
   "cell_type": "markdown",
   "id": "110d9c47",
   "metadata": {},
   "source": [
    "I am going to use ResNet model to analyze image classification. To use this model, you need to preprocess. Let me standardize image size to [223, 223, 3], and normalize pixel value tu a [0,1] range. First,let's create variable for hyperparameters."
   ]
  },
  {
   "cell_type": "code",
   "execution_count": null,
   "id": "7dcce804",
   "metadata": {},
   "outputs": [],
   "source": [
    "datagen_kwargs = dict(rescale = 1./255, validation_split = .20)\n",
    "dataflow_kwargs = dict(target_size = IMAGE_SIZE, batch_size = BATCH_SIZE, interpolation = \"bilinear\")"
   ]
  },
  {
   "cell_type": "markdown",
   "id": "3b3e2ec6",
   "metadata": {},
   "source": [
    "I am going to split dataset into train and validation.  While validation dataset uses for cross validation, the other dataset uses for training model. "
   ]
  },
  {
   "cell_type": "code",
   "execution_count": null,
   "id": "ab3c43cb",
   "metadata": {},
   "outputs": [],
   "source": [
    "# Generating batches of tensor image-data and creating validation dataset.\n",
    "valid_datagen = tf.keras.preprocessing.image.ImageDataGenerator(**datagen_kwargs)\n",
    "valid_generator = valid_datagen.flow_from_directory(\n",
    "    data_dir, subset=\"validation\", shuffle=False, \n",
    "    **dataflow_kwargs)"
   ]
  },
  {
   "cell_type": "markdown",
   "id": "c884c988",
   "metadata": {},
   "source": [
    "Now, do the same for the training data generator. "
   ]
  },
  {
   "cell_type": "code",
   "execution_count": null,
   "id": "057e079a",
   "metadata": {},
   "outputs": [],
   "source": [
    "train_datagen = valid_datagen\n",
    "train_generator = train_datagen.flow_from_directory(\n",
    "    data_dir, subset=\"training\", shuffle=True, \n",
    "    **dataflow_kwargs)"
   ]
  },
  {
   "cell_type": "markdown",
   "id": "8148a1c1",
   "metadata": {},
   "source": [
    "I am going to define class name. To do this, let me map flower class names."
   ]
  },
  {
   "cell_type": "code",
   "execution_count": null,
   "id": "0292f5d6",
   "metadata": {},
   "outputs": [],
   "source": [
    "labels_idx = (train_generator.class_indices)\n",
    "idx_labels = dict((v,k) for k,v in labels_idx.items())\n",
    "#Let's take a look how to map classes.\n",
    "idx_labels"
   ]
  },
  {
   "cell_type": "markdown",
   "id": "d5f87a9c",
   "metadata": {},
   "source": [
    "## Building the Model"
   ]
  },
  {
   "cell_type": "markdown",
   "id": "e9fd2a1f",
   "metadata": {},
   "source": [
    "Datasets are ready to build the model. I am going to train using pretrain model. "
   ]
  },
  {
   "cell_type": "code",
   "execution_count": null,
   "id": "79444d3a",
   "metadata": {},
   "outputs": [],
   "source": [
    "model = tf.keras.Sequential([\n",
    "    tf.keras.layers.InputLayer(input_shape=IMAGE_SIZE + (3,)),\n",
    "    hub.KerasLayer(\"https://tfhub.dev/google/imagenet/resnet_v1_101/feature_vector/4\", trainable=False),\n",
    "    tf.keras.layers.Dense(NUM_CLASSES, activation='softmax', name = 'flower_class') \n",
    "])\n",
    "\n",
    "model.build([None, 224, 224, 3])"
   ]
  },
  {
   "cell_type": "markdown",
   "id": "d31d7a1a",
   "metadata": {},
   "source": [
    "## Compiling the Model"
   ]
  },
  {
   "cell_type": "markdown",
   "id": "359048b6",
   "metadata": {},
   "source": [
    "After the model is built I am going to compile the model. To do this, let me specify the loss funciton and pick an optimizer."
   ]
  },
  {
   "cell_type": "code",
   "execution_count": null,
   "id": "f30543bd",
   "metadata": {},
   "outputs": [],
   "source": [
    "model.compile(\n",
    "    optimizer=tf.keras.optimizers.SGD(lr=0.005, momentum=0.9),\n",
    "    loss=tf.keras.losses.CategoricalCrossentropy(from_logits=True, label_smoothing=0.1),\n",
    "    metrics=['accuracy'])"
   ]
  },
  {
   "cell_type": "markdown",
   "id": "eb35c990",
   "metadata": {},
   "source": [
    "## Training the Model"
   ]
  },
  {
   "cell_type": "markdown",
   "id": "8cd67c25",
   "metadata": {},
   "source": [
    "Let's traing the model. First, let me determine the number of batches for training and cross-validation data."
   ]
  },
  {
   "cell_type": "code",
   "execution_count": null,
   "id": "461a4d0d",
   "metadata": {},
   "outputs": [],
   "source": [
    "steps_per_epoch = train_generator.samples // \n",
    "train_generator.batch_size\n",
    "validation_steps = valid_generator.samples // \n",
    "valid_generator.batch_size"
   ]
  },
  {
   "cell_type": "markdown",
   "id": "b5e40067",
   "metadata": {},
   "source": [
    "Now that I am going to fit model."
   ]
  },
  {
   "cell_type": "code",
   "execution_count": null,
   "id": "f12309a5",
   "metadata": {},
   "outputs": [],
   "source": [
    "model.fit(\n",
    "    train_generator,\n",
    "    epochs=5, \n",
    "    steps_per_epoch=steps_per_epoch,\n",
    "    validation_data=valid_generator,\n",
    "    validation_steps=validation_steps)"
   ]
  },
  {
   "cell_type": "markdown",
   "id": "36597dfc",
   "metadata": {},
   "source": [
    "## Predicting the Data"
   ]
  },
  {
   "cell_type": "markdown",
   "id": "5c751203",
   "metadata": {},
   "source": [
    "You can use predict() methodto score these validation images. Let's see predictions for first batch"
   ]
  },
  {
   "cell_type": "code",
   "execution_count": null,
   "id": "e2924edb",
   "metadata": {},
   "outputs": [],
   "source": [
    "sample_test_images, ground_truth_labels = next(valid_generator)\n",
    "prediction = model.predict(sample_test_images)"
   ]
  },
  {
   "cell_type": "markdown",
   "id": "73e751d7",
   "metadata": {},
   "source": [
    "731 images and 5 corresponding classes in the cross-validation data print out on the screen. The highest probability in each row represents the prediction. I am going to find position where the highest probability occurs for each row."
   ]
  },
  {
   "cell_type": "code",
   "execution_count": null,
   "id": "f099b925",
   "metadata": {},
   "outputs": [],
   "source": [
    "predicted_idx = tf.math.argmax(prediction, axis = -1)"
   ]
  },
  {
   "cell_type": "markdown",
   "id": "c5f58fe5",
   "metadata": {},
   "source": [
    "Let me display the result using print command."
   ]
  },
  {
   "cell_type": "code",
   "execution_count": null,
   "id": "2af685af",
   "metadata": {},
   "outputs": [],
   "source": [
    "print (predicted_idx)"
   ]
  },
  {
   "cell_type": "markdown",
   "id": "af5d2ec4",
   "metadata": {},
   "source": [
    "## Evaluating the Model"
   ]
  },
  {
   "cell_type": "markdown",
   "id": "cb494c10",
   "metadata": {},
   "source": [
    "To evaluate the model, I am going to use confusion matrix, which compare model output with ground truth. To do this let me convert classes into Pandas Series structure and create variable, which include predictions."
   ]
  },
  {
   "cell_type": "code",
   "execution_count": null,
   "id": "66f60e42",
   "metadata": {},
   "outputs": [],
   "source": [
    "y_actual = pd.Series(valid_generator.classes)\n",
    "y_predicted = pd.Series(predicted_idx)"
   ]
  },
  {
   "cell_type": "markdown",
   "id": "2aecfdee",
   "metadata": {},
   "source": [
    "Then I am going to produce the matrix."
   ]
  },
  {
   "cell_type": "code",
   "execution_count": null,
   "id": "7d2c4bc9",
   "metadata": {},
   "outputs": [],
   "source": [
    "pd.crosstab(y_actual, y_predicted, rownames = ['Actual'], colnames=['Predicted'], margins=True)"
   ]
  },
  {
   "cell_type": "markdown",
   "id": "b9711812",
   "metadata": {},
   "source": [
    "Each row represents predicted value and each column display actual values. \n",
    "Now that let's take a look statistical report using sklearn library."
   ]
  },
  {
   "cell_type": "code",
   "execution_count": null,
   "id": "96352960",
   "metadata": {},
   "outputs": [],
   "source": [
    "from sklearn.metrics import classification_report\n",
    "report = classification_report(truth, predicted_results)\n",
    "print(report)"
   ]
  },
  {
   "cell_type": "markdown",
   "id": "c7c1ce4f",
   "metadata": {},
   "source": [
    "This results say that the model has the best performance for classification problem.\n",
    "That is all. In this tutorial. I showed how to use the pretrained model. You can easily train the model according to your analysis usinf the pretrained model in TensorFlow Hub."
   ]
  },
  {
   "cell_type": "markdown",
   "id": "ae6e95ba",
   "metadata": {},
   "source": [
    "## Resources"
   ]
  },
  {
   "cell_type": "markdown",
   "id": "12d5ae4f",
   "metadata": {},
   "source": [
    "- [KC Tung, 2021, TensorFlow 2 Pocket Reference](https://www.amazon.com/TensorFlow-Pocket-Reference-Building-Deploying/dp/1492089184)\n",
    "- [TensorFlow Tutorial](https://www.tensorflow.org/tutorials)"
   ]
  },
  {
   "cell_type": "markdown",
   "id": "f2cabaec",
   "metadata": {},
   "source": [
    "Don't forget to follow on Tirendaz Academy [YouTube-Tr](https://youtube.com/c/tirendazakademi), [YouTube-Eng](https://www.youtube.com/channel/UCFU9Go20p01kC64w-tmFORw), [Twitter](https://twitter.com/TirendazAcademy), [Medium](https://tirendazacademy.medium.com), [GitHub](https://github.com/TirendazAcademy) and [LinkedIn](https://www.linkedin.com/in/tirendaz-academy)"
   ]
  }
 ],
 "metadata": {
  "kernelspec": {
   "display_name": "Python 3",
   "language": "python",
   "name": "python3"
  },
  "language_info": {
   "codemirror_mode": {
    "name": "ipython",
    "version": 3
   },
   "file_extension": ".py",
   "mimetype": "text/x-python",
   "name": "python",
   "nbconvert_exporter": "python",
   "pygments_lexer": "ipython3",
   "version": "3.9.6"
  }
 },
 "nbformat": 4,
 "nbformat_minor": 5
}
